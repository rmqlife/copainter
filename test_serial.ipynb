{
 "cells": [
  {
   "cell_type": "code",
   "execution_count": null,
   "metadata": {},
   "outputs": [],
   "source": [
    "!pip uninstall serial"
   ]
  },
  {
   "cell_type": "code",
   "execution_count": 1,
   "metadata": {},
   "outputs": [
    {
     "name": "stdout",
     "output_type": "stream",
     "text": [
      "b'press:  1 val: 137\\n'\n",
      "b'press:  1 val: 137\\n'\n",
      "b'press:  1 val: 137\\n'\n",
      "b'press:  1 val: 137\\n'\n",
      "b'press:  1 val: 137\\n'\n",
      "b'press:  1 val: 137\\n'\n",
      "b'press:  1 val: 137\\n'\n",
      "b'press:  1 val: 137\\n'\n",
      "b'press:  1 val: 137\\n'\n",
      "b'press:  1 val: 137\\n'\n"
     ]
    }
   ],
   "source": [
    "# import serial.tools.list_ports as port_list\n",
    "# ports = list(port_list.comports())\n",
    "# for p in ports:\n",
    "#     print (p)\n",
    "\n",
    "import serial\n",
    "with serial.Serial('COM3', 9600, timeout=1) as ser:\n",
    "    for i in range(10):\n",
    "        print(ser.readline())\n",
    "        "
   ]
  }
 ],
 "metadata": {
  "kernelspec": {
   "display_name": "Python 3",
   "language": "python",
   "name": "python3"
  },
  "language_info": {
   "codemirror_mode": {
    "name": "ipython",
    "version": 3
   },
   "file_extension": ".py",
   "mimetype": "text/x-python",
   "name": "python",
   "nbconvert_exporter": "python",
   "pygments_lexer": "ipython3",
   "version": "3.7.3"
  }
 },
 "nbformat": 4,
 "nbformat_minor": 2
}
